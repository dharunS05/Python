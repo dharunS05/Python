{
  "nbformat": 4,
  "nbformat_minor": 0,
  "metadata": {
    "colab": {
      "provenance": [],
      "gpuType": "T4",
      "authorship_tag": "ABX9TyMzuoMmmCZMiKn1sPynvCuz",
      "include_colab_link": true
    },
    "kernelspec": {
      "name": "python3",
      "display_name": "Python 3"
    },
    "language_info": {
      "name": "python"
    },
    "accelerator": "GPU"
  },
  "cells": [
    {
      "cell_type": "markdown",
      "metadata": {
        "id": "view-in-github",
        "colab_type": "text"
      },
      "source": [
        "<a href=\"https://colab.research.google.com/github/dharunS05/Python/blob/main/Fake_News_Prediction.ipynb\" target=\"_parent\"><img src=\"https://colab.research.google.com/assets/colab-badge.svg\" alt=\"Open In Colab\"/></a>"
      ]
    },
    {
      "cell_type": "markdown",
      "source": [
        "Kaggle Dataset\n",
        "columns :\n",
        "  id\n",
        "  title\n",
        "  text -> text contains author name and details it  main feature"
      ],
      "metadata": {
        "id": "pYgaca9t97Fp"
      }
    },
    {
      "cell_type": "code",
      "execution_count": 8,
      "metadata": {
        "id": "abylaymJ9z_V"
      },
      "outputs": [],
      "source": [
        "#dataset link -> https://www.kaggle.com/datasets/rajatkumar30/fake-news"
      ]
    },
    {
      "cell_type": "markdown",
      "source": [
        "Import Dependencies"
      ],
      "metadata": {
        "id": "WPRdoMGZ-j6O"
      }
    },
    {
      "cell_type": "code",
      "source": [
        "import pandas as pd\n",
        "import numpy as np\n",
        "import re\n",
        "from nltk.corpus import stopwords\n",
        "from nltk.stem.porter import PorterStemmer\n",
        "from sklearn.feature_extraction.text import TfidfVectorizer\n",
        "from sklearn.model_selection import train_test_split\n",
        "from sklearn.linear_model import LogisticRegression\n",
        "from sklearn.metrics import accuracy_score"
      ],
      "metadata": {
        "id": "yvMRhMLG-i3e"
      },
      "execution_count": 9,
      "outputs": []
    },
    {
      "cell_type": "code",
      "source": [
        "import nltk\n",
        "nltk.download('stopwords')"
      ],
      "metadata": {
        "colab": {
          "base_uri": "https://localhost:8080/"
        },
        "id": "KwwMHlmH_bmW",
        "outputId": "319bea46-2a21-415d-da7b-084db0aacdc6"
      },
      "execution_count": 10,
      "outputs": [
        {
          "output_type": "stream",
          "name": "stderr",
          "text": [
            "[nltk_data] Downloading package stopwords to /root/nltk_data...\n",
            "[nltk_data]   Package stopwords is already up-to-date!\n"
          ]
        },
        {
          "output_type": "execute_result",
          "data": {
            "text/plain": [
              "True"
            ]
          },
          "metadata": {},
          "execution_count": 10
        }
      ]
    },
    {
      "cell_type": "code",
      "source": [
        "print(stopwords.words('english'))"
      ],
      "metadata": {
        "colab": {
          "base_uri": "https://localhost:8080/"
        },
        "id": "WZeadDZiABG0",
        "outputId": "bd0b0cb2-7b0b-4c41-da8b-020867d21bd7"
      },
      "execution_count": 11,
      "outputs": [
        {
          "output_type": "stream",
          "name": "stdout",
          "text": [
            "['a', 'about', 'above', 'after', 'again', 'against', 'ain', 'all', 'am', 'an', 'and', 'any', 'are', 'aren', \"aren't\", 'as', 'at', 'be', 'because', 'been', 'before', 'being', 'below', 'between', 'both', 'but', 'by', 'can', 'couldn', \"couldn't\", 'd', 'did', 'didn', \"didn't\", 'do', 'does', 'doesn', \"doesn't\", 'doing', 'don', \"don't\", 'down', 'during', 'each', 'few', 'for', 'from', 'further', 'had', 'hadn', \"hadn't\", 'has', 'hasn', \"hasn't\", 'have', 'haven', \"haven't\", 'having', 'he', \"he'd\", \"he'll\", 'her', 'here', 'hers', 'herself', \"he's\", 'him', 'himself', 'his', 'how', 'i', \"i'd\", 'if', \"i'll\", \"i'm\", 'in', 'into', 'is', 'isn', \"isn't\", 'it', \"it'd\", \"it'll\", \"it's\", 'its', 'itself', \"i've\", 'just', 'll', 'm', 'ma', 'me', 'mightn', \"mightn't\", 'more', 'most', 'mustn', \"mustn't\", 'my', 'myself', 'needn', \"needn't\", 'no', 'nor', 'not', 'now', 'o', 'of', 'off', 'on', 'once', 'only', 'or', 'other', 'our', 'ours', 'ourselves', 'out', 'over', 'own', 're', 's', 'same', 'shan', \"shan't\", 'she', \"she'd\", \"she'll\", \"she's\", 'should', 'shouldn', \"shouldn't\", \"should've\", 'so', 'some', 'such', 't', 'than', 'that', \"that'll\", 'the', 'their', 'theirs', 'them', 'themselves', 'then', 'there', 'these', 'they', \"they'd\", \"they'll\", \"they're\", \"they've\", 'this', 'those', 'through', 'to', 'too', 'under', 'until', 'up', 've', 'very', 'was', 'wasn', \"wasn't\", 'we', \"we'd\", \"we'll\", \"we're\", 'were', 'weren', \"weren't\", \"we've\", 'what', 'when', 'where', 'which', 'while', 'who', 'whom', 'why', 'will', 'with', 'won', \"won't\", 'wouldn', \"wouldn't\", 'y', 'you', \"you'd\", \"you'll\", 'your', \"you're\", 'yours', 'yourself', 'yourselves', \"you've\"]\n"
          ]
        }
      ]
    },
    {
      "cell_type": "markdown",
      "source": [
        "Load the News Dataset"
      ],
      "metadata": {
        "id": "ZXIMR-rHAI31"
      }
    },
    {
      "cell_type": "code",
      "source": [
        "news_data = pd.read_csv('news.csv')\n",
        "news_data.head()"
      ],
      "metadata": {
        "colab": {
          "base_uri": "https://localhost:8080/",
          "height": 206
        },
        "id": "yTnlRwCPALzc",
        "outputId": "2a91d060-5b48-4201-8d7c-fdc3aed2f253"
      },
      "execution_count": 12,
      "outputs": [
        {
          "output_type": "execute_result",
          "data": {
            "text/plain": [
              "   Unnamed: 0                                              title  \\\n",
              "0        8476                       You Can Smell Hillary’s Fear   \n",
              "1       10294  Watch The Exact Moment Paul Ryan Committed Pol...   \n",
              "2        3608        Kerry to go to Paris in gesture of sympathy   \n",
              "3       10142  Bernie supporters on Twitter erupt in anger ag...   \n",
              "4         875   The Battle of New York: Why This Primary Matters   \n",
              "\n",
              "                                                text label  \n",
              "0  Daniel Greenfield, a Shillman Journalism Fello...  FAKE  \n",
              "1  Google Pinterest Digg Linkedin Reddit Stumbleu...  FAKE  \n",
              "2  U.S. Secretary of State John F. Kerry said Mon...  REAL  \n",
              "3  — Kaydee King (@KaydeeKing) November 9, 2016 T...  FAKE  \n",
              "4  It's primary day in New York and front-runners...  REAL  "
            ],
            "text/html": [
              "\n",
              "  <div id=\"df-6922edca-fe14-4158-8b80-0712370a31d4\" class=\"colab-df-container\">\n",
              "    <div>\n",
              "<style scoped>\n",
              "    .dataframe tbody tr th:only-of-type {\n",
              "        vertical-align: middle;\n",
              "    }\n",
              "\n",
              "    .dataframe tbody tr th {\n",
              "        vertical-align: top;\n",
              "    }\n",
              "\n",
              "    .dataframe thead th {\n",
              "        text-align: right;\n",
              "    }\n",
              "</style>\n",
              "<table border=\"1\" class=\"dataframe\">\n",
              "  <thead>\n",
              "    <tr style=\"text-align: right;\">\n",
              "      <th></th>\n",
              "      <th>Unnamed: 0</th>\n",
              "      <th>title</th>\n",
              "      <th>text</th>\n",
              "      <th>label</th>\n",
              "    </tr>\n",
              "  </thead>\n",
              "  <tbody>\n",
              "    <tr>\n",
              "      <th>0</th>\n",
              "      <td>8476</td>\n",
              "      <td>You Can Smell Hillary’s Fear</td>\n",
              "      <td>Daniel Greenfield, a Shillman Journalism Fello...</td>\n",
              "      <td>FAKE</td>\n",
              "    </tr>\n",
              "    <tr>\n",
              "      <th>1</th>\n",
              "      <td>10294</td>\n",
              "      <td>Watch The Exact Moment Paul Ryan Committed Pol...</td>\n",
              "      <td>Google Pinterest Digg Linkedin Reddit Stumbleu...</td>\n",
              "      <td>FAKE</td>\n",
              "    </tr>\n",
              "    <tr>\n",
              "      <th>2</th>\n",
              "      <td>3608</td>\n",
              "      <td>Kerry to go to Paris in gesture of sympathy</td>\n",
              "      <td>U.S. Secretary of State John F. Kerry said Mon...</td>\n",
              "      <td>REAL</td>\n",
              "    </tr>\n",
              "    <tr>\n",
              "      <th>3</th>\n",
              "      <td>10142</td>\n",
              "      <td>Bernie supporters on Twitter erupt in anger ag...</td>\n",
              "      <td>— Kaydee King (@KaydeeKing) November 9, 2016 T...</td>\n",
              "      <td>FAKE</td>\n",
              "    </tr>\n",
              "    <tr>\n",
              "      <th>4</th>\n",
              "      <td>875</td>\n",
              "      <td>The Battle of New York: Why This Primary Matters</td>\n",
              "      <td>It's primary day in New York and front-runners...</td>\n",
              "      <td>REAL</td>\n",
              "    </tr>\n",
              "  </tbody>\n",
              "</table>\n",
              "</div>\n",
              "    <div class=\"colab-df-buttons\">\n",
              "\n",
              "  <div class=\"colab-df-container\">\n",
              "    <button class=\"colab-df-convert\" onclick=\"convertToInteractive('df-6922edca-fe14-4158-8b80-0712370a31d4')\"\n",
              "            title=\"Convert this dataframe to an interactive table.\"\n",
              "            style=\"display:none;\">\n",
              "\n",
              "  <svg xmlns=\"http://www.w3.org/2000/svg\" height=\"24px\" viewBox=\"0 -960 960 960\">\n",
              "    <path d=\"M120-120v-720h720v720H120Zm60-500h600v-160H180v160Zm220 220h160v-160H400v160Zm0 220h160v-160H400v160ZM180-400h160v-160H180v160Zm440 0h160v-160H620v160ZM180-180h160v-160H180v160Zm440 0h160v-160H620v160Z\"/>\n",
              "  </svg>\n",
              "    </button>\n",
              "\n",
              "  <style>\n",
              "    .colab-df-container {\n",
              "      display:flex;\n",
              "      gap: 12px;\n",
              "    }\n",
              "\n",
              "    .colab-df-convert {\n",
              "      background-color: #E8F0FE;\n",
              "      border: none;\n",
              "      border-radius: 50%;\n",
              "      cursor: pointer;\n",
              "      display: none;\n",
              "      fill: #1967D2;\n",
              "      height: 32px;\n",
              "      padding: 0 0 0 0;\n",
              "      width: 32px;\n",
              "    }\n",
              "\n",
              "    .colab-df-convert:hover {\n",
              "      background-color: #E2EBFA;\n",
              "      box-shadow: 0px 1px 2px rgba(60, 64, 67, 0.3), 0px 1px 3px 1px rgba(60, 64, 67, 0.15);\n",
              "      fill: #174EA6;\n",
              "    }\n",
              "\n",
              "    .colab-df-buttons div {\n",
              "      margin-bottom: 4px;\n",
              "    }\n",
              "\n",
              "    [theme=dark] .colab-df-convert {\n",
              "      background-color: #3B4455;\n",
              "      fill: #D2E3FC;\n",
              "    }\n",
              "\n",
              "    [theme=dark] .colab-df-convert:hover {\n",
              "      background-color: #434B5C;\n",
              "      box-shadow: 0px 1px 3px 1px rgba(0, 0, 0, 0.15);\n",
              "      filter: drop-shadow(0px 1px 2px rgba(0, 0, 0, 0.3));\n",
              "      fill: #FFFFFF;\n",
              "    }\n",
              "  </style>\n",
              "\n",
              "    <script>\n",
              "      const buttonEl =\n",
              "        document.querySelector('#df-6922edca-fe14-4158-8b80-0712370a31d4 button.colab-df-convert');\n",
              "      buttonEl.style.display =\n",
              "        google.colab.kernel.accessAllowed ? 'block' : 'none';\n",
              "\n",
              "      async function convertToInteractive(key) {\n",
              "        const element = document.querySelector('#df-6922edca-fe14-4158-8b80-0712370a31d4');\n",
              "        const dataTable =\n",
              "          await google.colab.kernel.invokeFunction('convertToInteractive',\n",
              "                                                    [key], {});\n",
              "        if (!dataTable) return;\n",
              "\n",
              "        const docLinkHtml = 'Like what you see? Visit the ' +\n",
              "          '<a target=\"_blank\" href=https://colab.research.google.com/notebooks/data_table.ipynb>data table notebook</a>'\n",
              "          + ' to learn more about interactive tables.';\n",
              "        element.innerHTML = '';\n",
              "        dataTable['output_type'] = 'display_data';\n",
              "        await google.colab.output.renderOutput(dataTable, element);\n",
              "        const docLink = document.createElement('div');\n",
              "        docLink.innerHTML = docLinkHtml;\n",
              "        element.appendChild(docLink);\n",
              "      }\n",
              "    </script>\n",
              "  </div>\n",
              "\n",
              "\n",
              "    <div id=\"df-619e7056-c8de-40f8-b73e-fbb5a3fea3f9\">\n",
              "      <button class=\"colab-df-quickchart\" onclick=\"quickchart('df-619e7056-c8de-40f8-b73e-fbb5a3fea3f9')\"\n",
              "                title=\"Suggest charts\"\n",
              "                style=\"display:none;\">\n",
              "\n",
              "<svg xmlns=\"http://www.w3.org/2000/svg\" height=\"24px\"viewBox=\"0 0 24 24\"\n",
              "     width=\"24px\">\n",
              "    <g>\n",
              "        <path d=\"M19 3H5c-1.1 0-2 .9-2 2v14c0 1.1.9 2 2 2h14c1.1 0 2-.9 2-2V5c0-1.1-.9-2-2-2zM9 17H7v-7h2v7zm4 0h-2V7h2v10zm4 0h-2v-4h2v4z\"/>\n",
              "    </g>\n",
              "</svg>\n",
              "      </button>\n",
              "\n",
              "<style>\n",
              "  .colab-df-quickchart {\n",
              "      --bg-color: #E8F0FE;\n",
              "      --fill-color: #1967D2;\n",
              "      --hover-bg-color: #E2EBFA;\n",
              "      --hover-fill-color: #174EA6;\n",
              "      --disabled-fill-color: #AAA;\n",
              "      --disabled-bg-color: #DDD;\n",
              "  }\n",
              "\n",
              "  [theme=dark] .colab-df-quickchart {\n",
              "      --bg-color: #3B4455;\n",
              "      --fill-color: #D2E3FC;\n",
              "      --hover-bg-color: #434B5C;\n",
              "      --hover-fill-color: #FFFFFF;\n",
              "      --disabled-bg-color: #3B4455;\n",
              "      --disabled-fill-color: #666;\n",
              "  }\n",
              "\n",
              "  .colab-df-quickchart {\n",
              "    background-color: var(--bg-color);\n",
              "    border: none;\n",
              "    border-radius: 50%;\n",
              "    cursor: pointer;\n",
              "    display: none;\n",
              "    fill: var(--fill-color);\n",
              "    height: 32px;\n",
              "    padding: 0;\n",
              "    width: 32px;\n",
              "  }\n",
              "\n",
              "  .colab-df-quickchart:hover {\n",
              "    background-color: var(--hover-bg-color);\n",
              "    box-shadow: 0 1px 2px rgba(60, 64, 67, 0.3), 0 1px 3px 1px rgba(60, 64, 67, 0.15);\n",
              "    fill: var(--button-hover-fill-color);\n",
              "  }\n",
              "\n",
              "  .colab-df-quickchart-complete:disabled,\n",
              "  .colab-df-quickchart-complete:disabled:hover {\n",
              "    background-color: var(--disabled-bg-color);\n",
              "    fill: var(--disabled-fill-color);\n",
              "    box-shadow: none;\n",
              "  }\n",
              "\n",
              "  .colab-df-spinner {\n",
              "    border: 2px solid var(--fill-color);\n",
              "    border-color: transparent;\n",
              "    border-bottom-color: var(--fill-color);\n",
              "    animation:\n",
              "      spin 1s steps(1) infinite;\n",
              "  }\n",
              "\n",
              "  @keyframes spin {\n",
              "    0% {\n",
              "      border-color: transparent;\n",
              "      border-bottom-color: var(--fill-color);\n",
              "      border-left-color: var(--fill-color);\n",
              "    }\n",
              "    20% {\n",
              "      border-color: transparent;\n",
              "      border-left-color: var(--fill-color);\n",
              "      border-top-color: var(--fill-color);\n",
              "    }\n",
              "    30% {\n",
              "      border-color: transparent;\n",
              "      border-left-color: var(--fill-color);\n",
              "      border-top-color: var(--fill-color);\n",
              "      border-right-color: var(--fill-color);\n",
              "    }\n",
              "    40% {\n",
              "      border-color: transparent;\n",
              "      border-right-color: var(--fill-color);\n",
              "      border-top-color: var(--fill-color);\n",
              "    }\n",
              "    60% {\n",
              "      border-color: transparent;\n",
              "      border-right-color: var(--fill-color);\n",
              "    }\n",
              "    80% {\n",
              "      border-color: transparent;\n",
              "      border-right-color: var(--fill-color);\n",
              "      border-bottom-color: var(--fill-color);\n",
              "    }\n",
              "    90% {\n",
              "      border-color: transparent;\n",
              "      border-bottom-color: var(--fill-color);\n",
              "    }\n",
              "  }\n",
              "</style>\n",
              "\n",
              "      <script>\n",
              "        async function quickchart(key) {\n",
              "          const quickchartButtonEl =\n",
              "            document.querySelector('#' + key + ' button');\n",
              "          quickchartButtonEl.disabled = true;  // To prevent multiple clicks.\n",
              "          quickchartButtonEl.classList.add('colab-df-spinner');\n",
              "          try {\n",
              "            const charts = await google.colab.kernel.invokeFunction(\n",
              "                'suggestCharts', [key], {});\n",
              "          } catch (error) {\n",
              "            console.error('Error during call to suggestCharts:', error);\n",
              "          }\n",
              "          quickchartButtonEl.classList.remove('colab-df-spinner');\n",
              "          quickchartButtonEl.classList.add('colab-df-quickchart-complete');\n",
              "        }\n",
              "        (() => {\n",
              "          let quickchartButtonEl =\n",
              "            document.querySelector('#df-619e7056-c8de-40f8-b73e-fbb5a3fea3f9 button');\n",
              "          quickchartButtonEl.style.display =\n",
              "            google.colab.kernel.accessAllowed ? 'block' : 'none';\n",
              "        })();\n",
              "      </script>\n",
              "    </div>\n",
              "\n",
              "    </div>\n",
              "  </div>\n"
            ],
            "application/vnd.google.colaboratory.intrinsic+json": {
              "type": "dataframe",
              "variable_name": "news_data",
              "summary": "{\n  \"name\": \"news_data\",\n  \"rows\": 6946,\n  \"fields\": [\n    {\n      \"column\": \"Unnamed: 0\",\n      \"properties\": {\n        \"dtype\": \"number\",\n        \"std\": 3040,\n        \"min\": 2,\n        \"max\": 10557,\n        \"num_unique_values\": 6335,\n        \"samples\": [\n          9957,\n          7596,\n          8905\n        ],\n        \"semantic_type\": \"\",\n        \"description\": \"\"\n      }\n    },\n    {\n      \"column\": \"title\",\n      \"properties\": {\n        \"dtype\": \"string\",\n        \"num_unique_values\": 6256,\n        \"samples\": [\n          \"Elizabeth Warren's speech attacking Donald Trump made a bigger argument about Republicans\",\n          \"Assange: Clinton And ISIS Are Funded By Same People, \\u201cTrump Not Permitted To Win\\u201d\",\n          \"Reporters Stunned to Learn Trump Fans Lining Up 12 Hours Before Rally Starts\"\n        ],\n        \"semantic_type\": \"\",\n        \"description\": \"\"\n      }\n    },\n    {\n      \"column\": \"text\",\n      \"properties\": {\n        \"dtype\": \"string\",\n        \"num_unique_values\": 6063,\n        \"samples\": [\n          \"Public funding of elections \\u2014 that is, relying on tax revenue more than private donations to fund candidate campaigns \\u2014 is a popular campaign finance reform proposal, if one that many Americans don\\u2019t fully embrace.\\u00a0 Public funding is often thought to free candidates from the burden of fundraising and reduce the influence of wealthy donors and special interests.\\u00a0 That all sounds good.\\u00a0 Who likes \\u201cspecial interests,\\u201d after all?\\n\\nNow, new research shows that public funding has an unexpected consequence: increased polarization.\\u00a0 That is, public funding makes it harder, not easier, to elect moderate candidates.\\n\\nThat is the conclusion of political scientist Andrew Hall.\\u00a0 He focuses on state legislative elections and compares trends in the five states that implemented robust public funding programs \\u2014 Arizona, Connecticut, Maine, Minnesota, and Wisconsin \\u2014 to trends in other states.\\u00a0 Here is what he finds:\\n\\nBelow is a graph showing the distribution of ideology (\\u201cNP scores\\u201d) in legislatures in states that implemented public financing (the \\u201ctreated\\u201d states) and those that did not (the \\u201ccontrol\\u201d states).\\u00a0 The first group of states became more polarized after the implementation of public financing.\\u00a0 But no such change occurred during this time in the states that didn\\u2019t implement public financing.\\n\\nIn a more elaborate statistical analysis, Hall examines the gap between Republican and Democratic legislators representing similar districts.\\u00a0 In a polarized legislature, a Republican and a Democrat will tend to vote in very different ways even though they represent essentially the same constituents.\\u00a0 Hall finds that public financing increases this gap between the parties by 30 percent.\\n\\nWhy does public financing appear to have this effect?\\u00a0 Hall argues that public financing weakens the influence of a maligned, but moderating, force in elections: access-oriented interest groups.\\u00a0 Public financing reduces the funding supplied by these groups by over $20,000 per race, on average.\\u00a0 The problem is that these groups give relatively little to ideologically extreme legislators and much more to moderates.\\u00a0 Individual donors, however, have no such preference.\\n\\nThis leads to a broader point about campaign finance and polarization.\\u00a0 Much of the debate over campaign finance is based on distinctions between \\u201cgood\\u201d donors and \\u201cbad\\u201d donors.\\u00a0 Good donors are taxpayers, in a public financing system.\\u00a0 Or, in a privately funded system, good donors are ordinary citizens, sometimes called \\u201csmall donors.\\u201d\\u00a0 Bad donors are political party organizations, wealthy people, political action committees, and interest groups.\\n\\nThe problem is that if you want to reduce polarization, this way of thinking about donors gets things exactly backward.\\u00a0 Small donors are a polarizing influence, as Adam Bonica has shown.\\u00a0 Meanwhile, wealthy people tend to be a moderating influence.\\u00a0 The same is true of many political action committees and interest groups.\\u00a0 The same is true of political party organizations, as Brian Schaffner and Ray La Raja argue in this post.\\n\\nThat\\u2019s not to say that there aren\\u2019t good reasons to favor public financing or small donors.\\u00a0 But favoring those things may also mean living with the trade-off: a more polarized, and probably less functional, politics.\\n\\nNote: For a response, see this follow-up post by Seth Masket and Michael Miller.\",\n          \"Washington (CNN) Putting aside a sudden crisis with Iran, President Barack Obama on Tuesday urged Americans in his final State of the Union address to reject the politics of tribalism and fear that have rocked the campaign to find his successor and to build a \\\"clear-eyed, big-hearted\\\" and \\\"optimistic\\\" nation.\\n\\nDelivering his annual report to the nation, Obama did not name Republican 2016 candidates. But he took clear, implied shots at them nevertheless, particularly front-runner Donald Trump, as well as Sens. Marco Rubio and Ted Cruz. America's destiny, the President said, was imperiled by a political system festering in malice, gridlock and in the grip of the rich and the powerful.\\n\\nObama also took on critics who accuse him of weakening American power abroad and Republicans who say he is underplaying the threat from radical Islamist groups such as ISIS. He mocked the contention that fighters on \\\"on the back of pickup trucks and twisted souls plotting in apartments or garages\\\" represented an existential threat to America.\\n\\nRubio takes a selfie with Sen. Lisa Murkowski before the State of the Union.\\n\\nRubio takes a selfie with Sen. Lisa Murkowski before the State of the Union.\\n\\nKim Davis, center, the Rowan County, Kentucky, clerk who refused to sign marriage licenses for same-sex couples, arrives before the speech.\\n\\nKim Davis, center, the Rowan County, Kentucky, clerk who refused to sign marriage licenses for same-sex couples, arrives before the speech.\\n\\nTuesday's address before a packed House chamber marked the debut of new House Speaker Ryan -- a longtime Obama rival -- on the platform alongside Vice President Biden.\\n\\nTuesday's address before a packed House chamber marked the debut of new House Speaker Ryan -- a longtime Obama rival -- on the platform alongside Vice President Biden.\\n\\nFirst lady Michelle Obama sits beside an empty chair as her husband speaks. The chair represents the victims of gun violence in America.\\n\\nFirst lady Michelle Obama sits beside an empty chair as her husband speaks. The chair represents the victims of gun violence in America.\\n\\nObama gives copies of his speech to Biden and Ryan.\\n\\nObama gives copies of his speech to Biden and Ryan.\\n\\nBiden points at Obama during the State of the Union.\\n\\nBiden points at Obama during the State of the Union.\\n\\nObama reads from the text of his State of the Union address.\\n\\nObama reads from the text of his State of the Union address.\\n\\nPresident Barack Obama delivers his final State of the Union address before a joint session of Congress on Capitol Hill on Tuesday, January 12.\\n\\nPresident Barack Obama delivers his final State of the Union address before a joint session of Congress on Capitol Hill on Tuesday, January 12.\\n\\nThe President acknowledged that a torrent of change, technological advances and economic dislocation has left many Americans fearful of the future and anxious as social structures that have underpinned the life of the nation for decades fray. But he urged them not to fall prey to the periodic temptation that has emerged throughout history to alienate minorities and resist social change.\\n\\n\\\"Each time, there have been those who told us to fear the future; who claimed we could slam the brakes on change, promising to restore past glory if we just got some group or idea that was threatening America under control,\\\" Obama said. \\\"And each time, we overcame those fears.\\\"\\n\\n\\\"We made change work for us, always extending America's promise outward, to the next frontier, to more and more people. And because we did -- because we saw opportunity where others saw only peril -- we emerged stronger and better than before.\\\"\\n\\nEconomic opportunity, security and a sustainable, peaceful planet are possible, he said, if the country could return to \\\"rational, constructive debates.\\\"\\n\\n\\\"It will only happen if we fix our politics,\\\" he said.\\n\\nIn a way, Obama's seventh and last State of the Union address was a microcosm of his entire presidency: He invoked a chorus of hope and optimism about America's destiny and the transformative nature of change but was undercut by the poisoned political divides he has been unable to narrow -- and that have even grown during his presidency. Then he encountered fierce opposition from Republicans who believe he has transformed the nation by eroding its exceptional qualities and thwarting the Constitution.\\n\\nMeanwhile, a foreign policy crisis raging in the Middle East after Iran seized 10 U.S. sailors exemplified the struggles in which Obama has had to impose U.S. authority in an increasingly chaotic world that has challenged his core mission of ending costly American wars abroad.\\n\\nSecretary of State John Kerry told CNN that the service members would be released \\\"very soon.\\\" And Obama did not address the crisis in his speech but defended the legacy-building deal reached to halt Iran's nuclear weapons program.\\n\\nWhile Obama, in deference to his ebbing power as a lame-duck president, avoided the long list of legislative proposals that Congress has no intention of taking up, he strongly defended his domestic record, claiming credit for 14 million new jobs and a halving of the unemployment rate. He said those who claimed the economy was in decline are \\\"peddling fiction.\\\"\\n\\nHe rebuked politicians who draw congressional districts to protect safe seats and vowed to launch a national effort to secure voting rights, an issue particularly important to minority communities. And he named Vice President Joe Biden, who lost his beloved son Beau to cancer last year, to head \\\"Mission Control\\\" in a new \\\"moon shot\\\" to cure the disease. He told conservatives who deny climate change to \\\"have at it\\\" because they were defying the world.\\n\\nObama also vowed -- once again -- to fight to close the war on terror camp at Guantanamo Bay, Cuba, renewing one of the first promises of his presidency that has been thwarted by Congress. He called the facility a \\\"recruitment brochure for our enemies and was expensive and unnecessary.\\\"\\n\\nThe first African-American president also offered a detailed rebuttal of the kind of politics that alienates people rather than unites them. At times, Obama was almost pleading with his audience to embrace the vision of hope and change that swept him to power and then was sullied by the bitter realities of polarized politics over a darker vision of America's character.\\n\\n\\\"What I am asking for his hard. It's easier to be cynical; to accept that change isn't possible, and politics is hopeless, and to believe that our voices and actions don't matter,\\\" Obama said.\\n\\n\\\"But if we give up now, then we forsake a better future.\\\"\\n\\nIt seemed clear that the President had Trump in his thoughts.\\n\\n\\\"As frustration grows, there will be voices urging us to fall back into tribes, to scapegoat fellow citizens who don't look like us, or pray like us, or vote like we do, or share the same background,\\\" Obama said, voicing a familiar critique of Democrats and some Republicans at the rhetoric of the billionaire real estate mogul whose populist campaign has taken American politics by storm.\\n\\n\\\"We can't afford to go down that path. It won't deliver the economy we want, or the security we want, but most of all, it contradicts everything that makes us the envy of the world.\\\"\\n\\nIn the Republican response, South Carolina Gov. Nikki Haley also -- after criticizing Obama's policies -- offered a repudiation of Trump, decrying the \\\"siren call of the angriest voices.\\\"\\n\\nObama appeared to relish the chance to take on Republican critics who have lambasted his performance as commander in chief.\\n\\n\\\"I told you earlier all the talk of America's economic decline is political hot air. Well, so is all the rhetoric you hear about our enemies getting stronger and America getting weaker. The United States of America is the most powerful nation on Earth. Period. It's not even close,\\\" Obama said.\\n\\nThe man who burst on the political scene by rejecting the notion that there was a red America or a blue America also diagnosed a sick political system.\\n\\n\\\"It doesn't work if we think the people who disagree with us are all motivated by malice, or that our political opponents are unpatriotic,\\\" Obama warned, and even accepted a share of the blame for not uniting warring political factions.\\n\\n\\\"It's one of the few regrets of my presidency -- \\u200athat the rancor and suspicion between the parties has gotten worse instead of better. There's no doubt a president with the gifts of Lincoln or Roosevelt might have better bridged the divide, and I guarantee I'll keep trying to be better so long as I hold this office.\\n\\nAnd he slammed Republicans who have responded to the spread of ISIS across much of the Middle East and the group's apparent widening of its target list to Europe and the United States, by warning that its rise is a threat to America itself.\\n\\n\\\"As we focus on destroying ISIL, over-the-top claims that this is World War III just play into their hands,\\\" Obama said.\\n\\n\\\"They do not threaten our national existence. That's the story ISIL wants to tell; that's the kind of propaganda they use to recruit,\\\" Obama said, warning against pushing away vital Americans allies in the Middle East by \\\"echoing the lie\\\" that the group represents Islam.\\n\\n\\\"We just need to call them what they are\\u200a -- killers and fanatics who have to be rooted out, hunted down, and destroyed,\\\" he said, warning that \\\"tough talk or calls to carpet bomb civilians\\\" may work as a soundbite but don't pass muster on the world stage. Obama's comments appeared aimed at Cruz, who has warned he would carpet bomb ISIS and Rubio, who says America is waging an existential fight against radical Islamic terrorism.\\n\\nThe Iran incident complicated Obama's effort to counter claims by critics that the escalating chaos in the Middle East is the result of a deficit of U.S. leadership and emboldened attacks by GOP presidential candidates who contend his \\\"weak\\\" performance as commander in chief has opened vacuums exploited by U.S. enemies.\\n\\nRepublican candidates and lawmakers immediately seized on the incident to charge that Obama has emboldened Iran's aggressive behavior in its neighborhood by offering sanctions relief in return for a halting of its nuclear weapons program.\\n\\n\\\"This is the latest manifestation of the weakness of Barack Obama, that every bad actor ... views Obama as a laughingstock,\\\" Cruz said on WRKO radio.\\n\\nRubio said Iran's provocations were the result of having a \\\"weak president\\\" in the Oval Office. \\\"Iran is testing the boundaries of this administration's resolve. And they know the boundaries are pretty wide and this administration is willing to let them get away with many things,\\\" said Rubio on Fox News.\\n\\nAnd Colorado Republican Sen. Cory Gardner told CNN's Jake Tapper on \\\"The Lead\\\" that Obama should delay the start of his speech \\\"to talk about what has happened.\\\"\\n\\nRepublicans agree with Obama that his presidency has been transformational -- but in a bad way. They believe he has presided over anemic growth rates, wielded executive power on immigration, gun control and climate change to thwart the Constitution, is oblivious to the severity of Islamist terrorism and has engineered an era of declining American power in the world.\\n\\nHaley painted an unflattering picture of Obama's America and said the nation would soon have a chance to turn the page in remarks which also seemed to be a repudiation of Trump.\\n\\n\\\"The President's record has often fallen far short of his soaring words,\\\" Haley said.\\n\\n\\\"Many Americans are still feeling the squeeze of an economy too weak to raise income levels. We're feeling a crushing national debt, a health care plan that has made insurance less affordable and doctors less available, and chaotic unrest in many of our cities. Even worse, we are facing the most dangerous terrorist threat our nation has seen since September 11th, and this president appears either unwilling or unable to deal with it.\\\"\\n\\nHaley took a shot at Obama's foreign policy record, saying a Republican president would \\\"make international agreements that were celebrated in Israel and protested in Iran, not the other way around.\\\"\\n\\nThe governor also highlighted her personal story as a daughter of Indian immigrants and draw a contrast with some of the rhetoric currently on display in the primary campaign.\\n\\n\\\"Today, we live in a time of threats like few others in recent memory,\\\" she said. \\\"During anxious times, it can be tempting to follow the siren call of the angriest voices. We must resist that temptation. No one who is willing to work hard, abide by our laws, and love our traditions should ever feel unwelcome in this country.\\\"\\n\\nTuesday's address before a packed House chamber also marked the debut of House Speaker Paul Ryan -- a longtime Obama rival -- on the platform alongside Biden.\\n\\nAnd as per tradition, one Cabinet member did not attend the speech. Department of Homeland Security Secretary Jeh Johnson was named as the \\\"designated survivor.\\\"\",\n          \"Washington (CNN) The Supreme Court appeared closely divided along ideological lines during oral arguments Monday in a case that could determine President Barack Obama's legacy on immigration.\\n\\nConservative justices questioned Obama's authority to use executive actions to shield some 4 million undocumented immigrants from deportation. Chief Justice John Roberts and Justice Samuel Alito seemed particularly concerned with language in the administration's guidance that said the program's recipients would be \\\"lawfully present,\\\" which they suggested would contradict immigration law.\\n\\n\\\"How is it possible to lawfully work in the United States without lawfully being in the United States?\\\" Alito asked.\\n\\nRoberts added: \\\"I mean, they're lawfully present, and yet, they're present in violation of the law?\\\"\\n\\nLiberals on the bench seemed sympathetic to the administration's arguments. Justice Ruth Bader Ginsburg noted at one point that there are 11.3 million undocumented aliens in the country and Congress has provided funds for removing about 4 million. \\\"So inevitably, priorities have to be set,\\\" she said.\\n\\nJustice Sonia Sotomayor said there are not enough resources to deport everyone. \\\"They are here whether we want them or not,\\\" she said.\\n\\nObama announced the moves to great fanfare in late 2014, as a response to congressional inaction on immigration reform. But a federal court blocked them after Texas and 25 other states sued.\\n\\nBusloads of immigrants' rights activists -- some of them undocumented -- appeared on the court's plaza to support the policies. The moves are meant to shield them from deportation and allow them work permits.\\n\\nNancy Garcia, a U.S. citizen from Milwaukee, who was protesting with the Wisconsin group Voces de la Frontera (Voices from the Border), said she became active on the issue after Wisconsin lawmakers tried to crack down on undocumented immigrants.\\n\\n\\\"We're not drug lords. We're not rapists. We're good people,\\\" Garcia said.\\n\\nTea Party Patriots member Gregg Cummings said he arrived at 6 a.m. to find a spot in front of the court to protest the executive actions. Cummings, from Lamoni, Iowa, said he is concerned about the prospect of Obama's Supreme Court nominee, Judge Merrick Garland, changing the ideological balance of the court.\\n\\n\\\"Our number one purpose of being here is supporting the senators better standing strong on no votes on the new Supreme Court justice,\\\" he said.\\n\\nCritics of Obama's moves say they are part of a pattern of the White House looking to go around the Republican Congress.\\n\\n\\\"Basically the President has stepped in and taken over what normally would be associated with Congress,\\\" Texas Attorney General Ken Paxton said in an interview. \\\"Congress makes the laws.\\\"\\n\\nRoberts also seemed concerned with the scope of the government's argument defending Obama's moves. \\\"Under your argument, could the President grant deferred removal to every unlawful -- unlawfully present alien in the United States right now?\\\" he asked Solicitor General Donald Verrilli.\\n\\nAt one point, Justice Anthony Kennedy suggested that the president might have strayed into Congress' territory. \\\"It's as if -- that the President is setting the policy and Congress is executing it,\\\" he said. \\\"That's just upside down.\\\"\\n\\nThe GOP Congress was involved at oral arguments as well. The House of Representatives, in an unusual move, intervened in the case against the administration, and had 15 minutes before the eight justices.\\n\\nThat only eight justices are hearing the case -- due to the death in February of Justice Antonin Scalia -- could impact the final result. A split court between the four Democratic-appointed justices and four GOP-appointed justices would mean the programs remain blocked and the case is sent back to the district court in Texas that blocked them in the first place.\\n\\nFor the administration, a key argument before the court is to say that the states do not have the legal right to bring the case in the first place. If it can convince a majority of justices on that issue, the court may not even get to the merits of the immigration debate.\\n\\nAll eyes were on Roberts, who has in past cases sometimes limited who can bring challenges to court. On Monday, he asked some critical questions of the government's position, but it was unclear how interested he might be in dismissing the case on standing.\\n\\n\\\"The question is: Does Texas have the right to bring this case?\\\" said CNN Senior Legal Analyst Jeffrey Toobin. \\\"Texas says if you give legal status to these people, then we'll have to give them drivers licenses. The federal government says there's nothing in this law about drivers licenses. This law is directed entirely at the immigrants themselves, it does not impose any obligations on the states. So the states should not have the right to challenge it. That's the standing argument. I think the Obama administration thinks they have a better chance at winning over one of the conservatives on standing than they do on the merits of the case.\\\"\\n\\nElizabeth Wydra, President of the Constitutional Accountability Center, who filed a brief in support of the government says she wouldn't write off the chief justice on the merits of the case or on the issue of standing.\\n\\n\\\"On the merits, Chief Justice Roberts' concerns seemed to be alleviated when the Solicitor General clarified that undocumented immigrants\\u2014given relief under the programs -- are simply afforded deferred action but none the less are subject to removal proceedings at any time the executive changes its enforcement priorities,\\\" she said.\\n\\nShould it win on that count, the injunction would be lifted, and the programs would be able to go into effect during the final months of the Obama presidency.\\n\\nHowever, because the actions can be changed or reversed by the next President, immigrants would have to decide whether to come forward for the remaining months of the Obama administration or risk doing so with the possibility of Donald Trump or Ted Cruz in the White House.\\n\\n\\\"There's no question that the ultimate fate of the deferred action policy hangs in the balance of the upcoming election,\\\" said Stephen I. Vladeck, a professor of law at American University and CNN Legal Analyst.\\n\\n\\\"Like any other executive order, it can be modified, rescinded, or expanded by the next President, and codified or overruled by the next Congress,\\\" Vladeck added. \\\"But the fact that the Supreme Court expedited its consideration of the Obama administration's appeal so that it could resolve the dispute by June suggests that, even short-handed, the justices want to have their own say first.\\\"\\n\\nThe White House announced the programs in November 2014, issuing a five-page guidance memo enabling qualifying undocumented workers to receive temporary relief from the threat of deportation and to apply for programs that could qualify them for work authorization and associated benefits.\\n\\nThe Deferred Action for Parents of Americans and Lawful Permanent Residents (DAPA) targets the nearly 4.3 million undocumented parents of citizens and lawful residents, and the second rule expands Deferred Action for Childhood Arrivals (DACA), initiative aimed at non citizens who came to the country as children.\\n\\n\\\"We'll bring more undocumented immigrants out of the shadows so they can play by the rules, pay their full share of taxes, pass a criminal background check and get right with the law,\\\" Obama told an audience in Nevada after the programs were announced.\\n\\nThe programs remain frozen nationwide. They were first blocked by a federal judge in Texas and a divided federal appeals court later upheld the preliminary injunction.\\n\\nObama's lawyers argue in court papers that the lower court rulings threatened great harm, \\\"not only to the proper role of federal courts and to federal immigration law, but also to millions of parents of U.S. citizens and permanent residents, aliens who are the lowest priorities for removal yet now work off the books to support their families.\\\"\\n\\nAs a threshold issue, Verrilli says that the states don't have the legal right to be in court, because the Constitution \\\"assigns the formation of immigration policy exclusively to the National Government precisely because immigration is an inherently national matter.\\\"\\n\\nHe stressed that the guidance from the government does not provide any kind of lawful status under immigration law as the aliens remain removable at any time.\\n\\n\\\"Immigrant communities fought for these programs,\\\" said Marielena Hincapi\\u00e9, the executive director of the National Immigration Law Center. She says that her groups have been informing people about the risks of the rules being changed by the next president and she believes many will come forward should the Obama administration win.\\n\\nTexas Solicitor General Scott Keller argues that the states have standing to bring the challenge in part because DAPA would create a new class of recipients for state subsidized driver's licenses in Texas. He says that Texas would stand to lose millions of dollars if even a small fraction of DAPA eligible aliens applied.\\n\\n\\\"DAPA is an extraordinary assertion of executive power,\\\" Keller wrote in court papers. \\\"The Executive has unilaterally crafted an enormous program -- one of the largest changes ever to our Nation's approach to immigration,\\\" he said. \\\"In doing so, the Executive dispensed with immigration statutes by declaring unlawful conduct to be lawful.\\\"\\n\\nHe points to the guidance and says that the eligible undocumented immigrations would be permitted to be \\\"lawfully present in the United States,\\\" which would make them eligible for work authorization and some types of Social Security and Medicare benefits.\\n\\nTexas is supported by the GOP-led House of Representatives, who say that the programs went forward after the President failed in his attempts to persuade Congress to revise immigration laws.\\n\\nErin E. Murphy, a lawyer for the House, called the administration's position, \\\"the most aggressive of executive power claims.\\\"\\n\\nAndrew Pincus, a lawyer who supports the administration's position, says that allowing Texas to bring the case would have broad implications.\\n\\n\\\"If a state can sue every time the federal government does something to increase the state's costs, states could sue to challenge almost anything the federal government does,\\\" he said.\\n\\nPincus points out that Texas is not objecting to the administration's use of prosecutorial discretion, it just doesn't want the undocumented workers to be able to work legally.\\n\\n\\\"You are saying to these people, you can stay here, but we are keeping you in a bubble,\\\" he said.\"\n        ],\n        \"semantic_type\": \"\",\n        \"description\": \"\"\n      }\n    },\n    {\n      \"column\": \"label\",\n      \"properties\": {\n        \"dtype\": \"category\",\n        \"num_unique_values\": 2,\n        \"samples\": [\n          \"REAL\",\n          \"FAKE\"\n        ],\n        \"semantic_type\": \"\",\n        \"description\": \"\"\n      }\n    }\n  ]\n}"
            }
          },
          "metadata": {},
          "execution_count": 12
        }
      ]
    },
    {
      "cell_type": "code",
      "source": [
        "news_data.shape"
      ],
      "metadata": {
        "colab": {
          "base_uri": "https://localhost:8080/"
        },
        "id": "ojfUVFqhAUHl",
        "outputId": "8708ced0-2887-4083-9bc0-bffd130b381e"
      },
      "execution_count": 13,
      "outputs": [
        {
          "output_type": "execute_result",
          "data": {
            "text/plain": [
              "(6946, 4)"
            ]
          },
          "metadata": {},
          "execution_count": 13
        }
      ]
    },
    {
      "cell_type": "code",
      "source": [
        "news_data['label'].value_counts()"
      ],
      "metadata": {
        "colab": {
          "base_uri": "https://localhost:8080/",
          "height": 178
        },
        "id": "7RhzsfNoAckj",
        "outputId": "640eb685-dd11-44bb-fb81-335f43478223"
      },
      "execution_count": 14,
      "outputs": [
        {
          "output_type": "execute_result",
          "data": {
            "text/plain": [
              "label\n",
              "FAKE    3473\n",
              "REAL    3473\n",
              "Name: count, dtype: int64"
            ],
            "text/html": [
              "<div>\n",
              "<style scoped>\n",
              "    .dataframe tbody tr th:only-of-type {\n",
              "        vertical-align: middle;\n",
              "    }\n",
              "\n",
              "    .dataframe tbody tr th {\n",
              "        vertical-align: top;\n",
              "    }\n",
              "\n",
              "    .dataframe thead th {\n",
              "        text-align: right;\n",
              "    }\n",
              "</style>\n",
              "<table border=\"1\" class=\"dataframe\">\n",
              "  <thead>\n",
              "    <tr style=\"text-align: right;\">\n",
              "      <th></th>\n",
              "      <th>count</th>\n",
              "    </tr>\n",
              "    <tr>\n",
              "      <th>label</th>\n",
              "      <th></th>\n",
              "    </tr>\n",
              "  </thead>\n",
              "  <tbody>\n",
              "    <tr>\n",
              "      <th>FAKE</th>\n",
              "      <td>3473</td>\n",
              "    </tr>\n",
              "    <tr>\n",
              "      <th>REAL</th>\n",
              "      <td>3473</td>\n",
              "    </tr>\n",
              "  </tbody>\n",
              "</table>\n",
              "</div><br><label><b>dtype:</b> int64</label>"
            ]
          },
          "metadata": {},
          "execution_count": 14
        }
      ]
    },
    {
      "cell_type": "code",
      "source": [
        "#counting Missing Values in dataframe\n",
        "print(news_data.isnull().sum())"
      ],
      "metadata": {
        "colab": {
          "base_uri": "https://localhost:8080/"
        },
        "id": "DzaConhQAqkb",
        "outputId": "f6512e47-be8a-42eb-df6c-e94886dc5635"
      },
      "execution_count": 15,
      "outputs": [
        {
          "output_type": "stream",
          "name": "stdout",
          "text": [
            "Unnamed: 0    0\n",
            "title         0\n",
            "text          0\n",
            "label         0\n",
            "dtype: int64\n"
          ]
        }
      ]
    },
    {
      "cell_type": "markdown",
      "source": [
        "Stemming -> reduced the content in text make better prediction\n",
        "it reduce para into  root word"
      ],
      "metadata": {
        "id": "ebM2GJJgBPy0"
      }
    },
    {
      "cell_type": "code",
      "source": [
        "port_stem = PorterStemmer()"
      ],
      "metadata": {
        "id": "YdxeWzzcA7S7"
      },
      "execution_count": 16,
      "outputs": []
    },
    {
      "cell_type": "code",
      "source": [
        "def stemmer(content):\n",
        "  stemmed_content = re.sub('[^a-zA-Z]',' ',content)\n",
        "  stemmed_content = stemmed_content.lower()\n",
        "  stemmed_content = stemmed_content.split()\n",
        "  stemmed_content = [port_stem.stem(word) for word in stemmed_content if not word in stopwords.words('english')]\n",
        "  stemmed_content = \" \".join(stemmed_content)\n",
        "  return stemmed_content"
      ],
      "metadata": {
        "id": "cP9QT7dMBbS7"
      },
      "execution_count": 32,
      "outputs": []
    },
    {
      "cell_type": "code",
      "source": [
        "#stemming the data in this project i only use title but text using to train model its give more accuracy\n",
        "news_data['content'] = news_data['title'].apply(stemmer)"
      ],
      "metadata": {
        "id": "a46Ed4ZICDxK"
      },
      "execution_count": 33,
      "outputs": []
    },
    {
      "cell_type": "markdown",
      "source": [
        "Split the Training and Testing Data"
      ],
      "metadata": {
        "id": "tZYHwLkcDBny"
      }
    },
    {
      "cell_type": "code",
      "source": [
        "#splitting trainig and testing data\n",
        "X = news_data['content']\n",
        "Y = news_data['label']\n",
        "print(X)"
      ],
      "metadata": {
        "colab": {
          "base_uri": "https://localhost:8080/"
        },
        "id": "L8eTwKzDCMoZ",
        "outputId": "fe8463d5-2228-42ef-fcdf-1cecef07d5d6"
      },
      "execution_count": 34,
      "outputs": [
        {
          "output_type": "stream",
          "name": "stdout",
          "text": [
            "0                                      smell hillari fear\n",
            "1       watch exact moment paul ryan commit polit suic...\n",
            "2                           kerri go pari gestur sympathi\n",
            "3          berni support twitter erupt anger dnc tri warn\n",
            "4                           battl new york primari matter\n",
            "                              ...                        \n",
            "6941       state depart say find email clinton specialist\n",
            "6942                        p pb stand plutocrat pentagon\n",
            "6943             anti trump protest tool oligarchi inform\n",
            "6944    ethiopia obama seek progress peac secur east a...\n",
            "6945                jeb bush suddenli attack trump matter\n",
            "Name: content, Length: 6946, dtype: object\n"
          ]
        }
      ]
    },
    {
      "cell_type": "markdown",
      "source": [
        "Vectorize the Data\n",
        "\n",
        "convert the  string info features[numerical data]"
      ],
      "metadata": {
        "id": "P8KmtZPIDVRZ"
      }
    },
    {
      "cell_type": "code",
      "source": [
        "#convert string to numerical data to train model\n",
        "tf_vector = TfidfVectorizer()\n",
        "tf_vector.fit(X)\n",
        "featured_news_data = tf_vector.transform(X)\n",
        "\n",
        "X = featured_news_data"
      ],
      "metadata": {
        "id": "vjRqD1ARDU-y"
      },
      "execution_count": 35,
      "outputs": []
    },
    {
      "cell_type": "markdown",
      "source": [
        "print(X)"
      ],
      "metadata": {
        "id": "hysVD-RuHBJl"
      }
    },
    {
      "cell_type": "code",
      "source": [
        "print(X)\n",
        "print(Y)"
      ],
      "metadata": {
        "colab": {
          "base_uri": "https://localhost:8080/"
        },
        "id": "rVFkiMFGHDK1",
        "outputId": "6cb9aacd-d002-4065-cbdc-a86744dc1595"
      },
      "execution_count": 36,
      "outputs": [
        {
          "output_type": "stream",
          "name": "stdout",
          "text": [
            "<Compressed Sparse Row sparse matrix of dtype 'float64'\n",
            "\twith 50299 stored elements and shape (6946, 6884)>\n",
            "  Coords\tValues\n",
            "  (0, 2230)\t0.5635698334667664\n",
            "  (0, 2817)\t0.31815965821997944\n",
            "  (0, 5631)\t0.7623407864515626\n",
            "  (1, 1212)\t0.3537393077304151\n",
            "  (1, 2101)\t0.44924980560983485\n",
            "  (1, 3939)\t0.32937285165300206\n",
            "  (1, 4462)\t0.26697771191926845\n",
            "  (1, 4630)\t0.24361029519971616\n",
            "  (1, 4905)\t0.29225033563991026\n",
            "  (1, 5263)\t0.29125873248940237\n",
            "  (1, 5933)\t0.3471852282430904\n",
            "  (1, 6315)\t0.13470199578118602\n",
            "  (1, 6571)\t0.21700021020018959\n",
            "  (1, 6671)\t0.27914217666526076\n",
            "  (2, 2536)\t0.5244687395828346\n",
            "  (2, 2576)\t0.3379763174087695\n",
            "  (2, 3335)\t0.4187818242686454\n",
            "  (2, 4428)\t0.3758097348991725\n",
            "  (2, 6015)\t0.5423037680935276\n",
            "  (3, 215)\t0.42252794969884777\n",
            "  (3, 561)\t0.29525752491660345\n",
            "  (3, 1764)\t0.34883654561602934\n",
            "  (3, 2048)\t0.44809757670677597\n",
            "  (3, 5956)\t0.27704612940030426\n",
            "  (3, 6288)\t0.3147554443197607\n",
            "  :\t:\n",
            "  (6941, 5809)\t0.30314583965711916\n",
            "  (6942, 4474)\t0.5818511607997495\n",
            "  (6942, 4493)\t0.4537637399244028\n",
            "  (6942, 4611)\t0.5560757366612016\n",
            "  (6942, 5796)\t0.3825277376903603\n",
            "  (6943, 240)\t0.36273778744452195\n",
            "  (6943, 3055)\t0.4012948193414629\n",
            "  (6943, 4270)\t0.5206027343081769\n",
            "  (6943, 4797)\t0.34850217703841635\n",
            "  (6943, 6213)\t0.5323873752533674\n",
            "  (6943, 6315)\t0.17738791906643342\n",
            "  (6944, 97)\t0.40046212623473537\n",
            "  (6944, 1894)\t0.3703384041604437\n",
            "  (6944, 2065)\t0.4216906270644494\n",
            "  (6944, 4225)\t0.1997577458557426\n",
            "  (6944, 4477)\t0.3671643460015652\n",
            "  (6944, 4771)\t0.3703384041604437\n",
            "  (6944, 5396)\t0.3198107010542688\n",
            "  (6944, 5399)\t0.332436963637305\n",
            "  (6945, 368)\t0.3523271250883222\n",
            "  (6945, 852)\t0.3791877527317693\n",
            "  (6945, 3210)\t0.40219992267372817\n",
            "  (6945, 3760)\t0.4231922831333636\n",
            "  (6945, 5926)\t0.5949572199984523\n",
            "  (6945, 6315)\t0.1930069044738026\n",
            "0       FAKE\n",
            "1       FAKE\n",
            "2       REAL\n",
            "3       FAKE\n",
            "4       REAL\n",
            "        ... \n",
            "6941    REAL\n",
            "6942    FAKE\n",
            "6943    FAKE\n",
            "6944    REAL\n",
            "6945    REAL\n",
            "Name: label, Length: 6946, dtype: object\n"
          ]
        }
      ]
    },
    {
      "cell_type": "code",
      "source": [
        "#splitting training and test data\n",
        "X_train,X_test,Y_train,Y_test = train_test_split(X,Y,test_size=0.2,stratify=Y,random_state=2)"
      ],
      "metadata": {
        "id": "IpXiK-OpII30"
      },
      "execution_count": 37,
      "outputs": []
    },
    {
      "cell_type": "markdown",
      "source": [
        "Model -> Logistic Regression"
      ],
      "metadata": {
        "id": "OYxCukr9LDlp"
      }
    },
    {
      "cell_type": "code",
      "source": [
        "model = LogisticRegression()\n"
      ],
      "metadata": {
        "id": "wDxLpYdVIP_D"
      },
      "execution_count": 38,
      "outputs": []
    },
    {
      "cell_type": "code",
      "source": [
        "model.fit(X_train,Y_train)"
      ],
      "metadata": {
        "colab": {
          "base_uri": "https://localhost:8080/",
          "height": 80
        },
        "id": "c2rk4GYhIS5a",
        "outputId": "a26a83e8-45c0-4dfb-fec7-23c881a4f3e8"
      },
      "execution_count": 39,
      "outputs": [
        {
          "output_type": "execute_result",
          "data": {
            "text/plain": [
              "LogisticRegression()"
            ],
            "text/html": [
              "<style>#sk-container-id-2 {\n",
              "  /* Definition of color scheme common for light and dark mode */\n",
              "  --sklearn-color-text: #000;\n",
              "  --sklearn-color-text-muted: #666;\n",
              "  --sklearn-color-line: gray;\n",
              "  /* Definition of color scheme for unfitted estimators */\n",
              "  --sklearn-color-unfitted-level-0: #fff5e6;\n",
              "  --sklearn-color-unfitted-level-1: #f6e4d2;\n",
              "  --sklearn-color-unfitted-level-2: #ffe0b3;\n",
              "  --sklearn-color-unfitted-level-3: chocolate;\n",
              "  /* Definition of color scheme for fitted estimators */\n",
              "  --sklearn-color-fitted-level-0: #f0f8ff;\n",
              "  --sklearn-color-fitted-level-1: #d4ebff;\n",
              "  --sklearn-color-fitted-level-2: #b3dbfd;\n",
              "  --sklearn-color-fitted-level-3: cornflowerblue;\n",
              "\n",
              "  /* Specific color for light theme */\n",
              "  --sklearn-color-text-on-default-background: var(--sg-text-color, var(--theme-code-foreground, var(--jp-content-font-color1, black)));\n",
              "  --sklearn-color-background: var(--sg-background-color, var(--theme-background, var(--jp-layout-color0, white)));\n",
              "  --sklearn-color-border-box: var(--sg-text-color, var(--theme-code-foreground, var(--jp-content-font-color1, black)));\n",
              "  --sklearn-color-icon: #696969;\n",
              "\n",
              "  @media (prefers-color-scheme: dark) {\n",
              "    /* Redefinition of color scheme for dark theme */\n",
              "    --sklearn-color-text-on-default-background: var(--sg-text-color, var(--theme-code-foreground, var(--jp-content-font-color1, white)));\n",
              "    --sklearn-color-background: var(--sg-background-color, var(--theme-background, var(--jp-layout-color0, #111)));\n",
              "    --sklearn-color-border-box: var(--sg-text-color, var(--theme-code-foreground, var(--jp-content-font-color1, white)));\n",
              "    --sklearn-color-icon: #878787;\n",
              "  }\n",
              "}\n",
              "\n",
              "#sk-container-id-2 {\n",
              "  color: var(--sklearn-color-text);\n",
              "}\n",
              "\n",
              "#sk-container-id-2 pre {\n",
              "  padding: 0;\n",
              "}\n",
              "\n",
              "#sk-container-id-2 input.sk-hidden--visually {\n",
              "  border: 0;\n",
              "  clip: rect(1px 1px 1px 1px);\n",
              "  clip: rect(1px, 1px, 1px, 1px);\n",
              "  height: 1px;\n",
              "  margin: -1px;\n",
              "  overflow: hidden;\n",
              "  padding: 0;\n",
              "  position: absolute;\n",
              "  width: 1px;\n",
              "}\n",
              "\n",
              "#sk-container-id-2 div.sk-dashed-wrapped {\n",
              "  border: 1px dashed var(--sklearn-color-line);\n",
              "  margin: 0 0.4em 0.5em 0.4em;\n",
              "  box-sizing: border-box;\n",
              "  padding-bottom: 0.4em;\n",
              "  background-color: var(--sklearn-color-background);\n",
              "}\n",
              "\n",
              "#sk-container-id-2 div.sk-container {\n",
              "  /* jupyter's `normalize.less` sets `[hidden] { display: none; }`\n",
              "     but bootstrap.min.css set `[hidden] { display: none !important; }`\n",
              "     so we also need the `!important` here to be able to override the\n",
              "     default hidden behavior on the sphinx rendered scikit-learn.org.\n",
              "     See: https://github.com/scikit-learn/scikit-learn/issues/21755 */\n",
              "  display: inline-block !important;\n",
              "  position: relative;\n",
              "}\n",
              "\n",
              "#sk-container-id-2 div.sk-text-repr-fallback {\n",
              "  display: none;\n",
              "}\n",
              "\n",
              "div.sk-parallel-item,\n",
              "div.sk-serial,\n",
              "div.sk-item {\n",
              "  /* draw centered vertical line to link estimators */\n",
              "  background-image: linear-gradient(var(--sklearn-color-text-on-default-background), var(--sklearn-color-text-on-default-background));\n",
              "  background-size: 2px 100%;\n",
              "  background-repeat: no-repeat;\n",
              "  background-position: center center;\n",
              "}\n",
              "\n",
              "/* Parallel-specific style estimator block */\n",
              "\n",
              "#sk-container-id-2 div.sk-parallel-item::after {\n",
              "  content: \"\";\n",
              "  width: 100%;\n",
              "  border-bottom: 2px solid var(--sklearn-color-text-on-default-background);\n",
              "  flex-grow: 1;\n",
              "}\n",
              "\n",
              "#sk-container-id-2 div.sk-parallel {\n",
              "  display: flex;\n",
              "  align-items: stretch;\n",
              "  justify-content: center;\n",
              "  background-color: var(--sklearn-color-background);\n",
              "  position: relative;\n",
              "}\n",
              "\n",
              "#sk-container-id-2 div.sk-parallel-item {\n",
              "  display: flex;\n",
              "  flex-direction: column;\n",
              "}\n",
              "\n",
              "#sk-container-id-2 div.sk-parallel-item:first-child::after {\n",
              "  align-self: flex-end;\n",
              "  width: 50%;\n",
              "}\n",
              "\n",
              "#sk-container-id-2 div.sk-parallel-item:last-child::after {\n",
              "  align-self: flex-start;\n",
              "  width: 50%;\n",
              "}\n",
              "\n",
              "#sk-container-id-2 div.sk-parallel-item:only-child::after {\n",
              "  width: 0;\n",
              "}\n",
              "\n",
              "/* Serial-specific style estimator block */\n",
              "\n",
              "#sk-container-id-2 div.sk-serial {\n",
              "  display: flex;\n",
              "  flex-direction: column;\n",
              "  align-items: center;\n",
              "  background-color: var(--sklearn-color-background);\n",
              "  padding-right: 1em;\n",
              "  padding-left: 1em;\n",
              "}\n",
              "\n",
              "\n",
              "/* Toggleable style: style used for estimator/Pipeline/ColumnTransformer box that is\n",
              "clickable and can be expanded/collapsed.\n",
              "- Pipeline and ColumnTransformer use this feature and define the default style\n",
              "- Estimators will overwrite some part of the style using the `sk-estimator` class\n",
              "*/\n",
              "\n",
              "/* Pipeline and ColumnTransformer style (default) */\n",
              "\n",
              "#sk-container-id-2 div.sk-toggleable {\n",
              "  /* Default theme specific background. It is overwritten whether we have a\n",
              "  specific estimator or a Pipeline/ColumnTransformer */\n",
              "  background-color: var(--sklearn-color-background);\n",
              "}\n",
              "\n",
              "/* Toggleable label */\n",
              "#sk-container-id-2 label.sk-toggleable__label {\n",
              "  cursor: pointer;\n",
              "  display: flex;\n",
              "  width: 100%;\n",
              "  margin-bottom: 0;\n",
              "  padding: 0.5em;\n",
              "  box-sizing: border-box;\n",
              "  text-align: center;\n",
              "  align-items: start;\n",
              "  justify-content: space-between;\n",
              "  gap: 0.5em;\n",
              "}\n",
              "\n",
              "#sk-container-id-2 label.sk-toggleable__label .caption {\n",
              "  font-size: 0.6rem;\n",
              "  font-weight: lighter;\n",
              "  color: var(--sklearn-color-text-muted);\n",
              "}\n",
              "\n",
              "#sk-container-id-2 label.sk-toggleable__label-arrow:before {\n",
              "  /* Arrow on the left of the label */\n",
              "  content: \"▸\";\n",
              "  float: left;\n",
              "  margin-right: 0.25em;\n",
              "  color: var(--sklearn-color-icon);\n",
              "}\n",
              "\n",
              "#sk-container-id-2 label.sk-toggleable__label-arrow:hover:before {\n",
              "  color: var(--sklearn-color-text);\n",
              "}\n",
              "\n",
              "/* Toggleable content - dropdown */\n",
              "\n",
              "#sk-container-id-2 div.sk-toggleable__content {\n",
              "  max-height: 0;\n",
              "  max-width: 0;\n",
              "  overflow: hidden;\n",
              "  text-align: left;\n",
              "  /* unfitted */\n",
              "  background-color: var(--sklearn-color-unfitted-level-0);\n",
              "}\n",
              "\n",
              "#sk-container-id-2 div.sk-toggleable__content.fitted {\n",
              "  /* fitted */\n",
              "  background-color: var(--sklearn-color-fitted-level-0);\n",
              "}\n",
              "\n",
              "#sk-container-id-2 div.sk-toggleable__content pre {\n",
              "  margin: 0.2em;\n",
              "  border-radius: 0.25em;\n",
              "  color: var(--sklearn-color-text);\n",
              "  /* unfitted */\n",
              "  background-color: var(--sklearn-color-unfitted-level-0);\n",
              "}\n",
              "\n",
              "#sk-container-id-2 div.sk-toggleable__content.fitted pre {\n",
              "  /* unfitted */\n",
              "  background-color: var(--sklearn-color-fitted-level-0);\n",
              "}\n",
              "\n",
              "#sk-container-id-2 input.sk-toggleable__control:checked~div.sk-toggleable__content {\n",
              "  /* Expand drop-down */\n",
              "  max-height: 200px;\n",
              "  max-width: 100%;\n",
              "  overflow: auto;\n",
              "}\n",
              "\n",
              "#sk-container-id-2 input.sk-toggleable__control:checked~label.sk-toggleable__label-arrow:before {\n",
              "  content: \"▾\";\n",
              "}\n",
              "\n",
              "/* Pipeline/ColumnTransformer-specific style */\n",
              "\n",
              "#sk-container-id-2 div.sk-label input.sk-toggleable__control:checked~label.sk-toggleable__label {\n",
              "  color: var(--sklearn-color-text);\n",
              "  background-color: var(--sklearn-color-unfitted-level-2);\n",
              "}\n",
              "\n",
              "#sk-container-id-2 div.sk-label.fitted input.sk-toggleable__control:checked~label.sk-toggleable__label {\n",
              "  background-color: var(--sklearn-color-fitted-level-2);\n",
              "}\n",
              "\n",
              "/* Estimator-specific style */\n",
              "\n",
              "/* Colorize estimator box */\n",
              "#sk-container-id-2 div.sk-estimator input.sk-toggleable__control:checked~label.sk-toggleable__label {\n",
              "  /* unfitted */\n",
              "  background-color: var(--sklearn-color-unfitted-level-2);\n",
              "}\n",
              "\n",
              "#sk-container-id-2 div.sk-estimator.fitted input.sk-toggleable__control:checked~label.sk-toggleable__label {\n",
              "  /* fitted */\n",
              "  background-color: var(--sklearn-color-fitted-level-2);\n",
              "}\n",
              "\n",
              "#sk-container-id-2 div.sk-label label.sk-toggleable__label,\n",
              "#sk-container-id-2 div.sk-label label {\n",
              "  /* The background is the default theme color */\n",
              "  color: var(--sklearn-color-text-on-default-background);\n",
              "}\n",
              "\n",
              "/* On hover, darken the color of the background */\n",
              "#sk-container-id-2 div.sk-label:hover label.sk-toggleable__label {\n",
              "  color: var(--sklearn-color-text);\n",
              "  background-color: var(--sklearn-color-unfitted-level-2);\n",
              "}\n",
              "\n",
              "/* Label box, darken color on hover, fitted */\n",
              "#sk-container-id-2 div.sk-label.fitted:hover label.sk-toggleable__label.fitted {\n",
              "  color: var(--sklearn-color-text);\n",
              "  background-color: var(--sklearn-color-fitted-level-2);\n",
              "}\n",
              "\n",
              "/* Estimator label */\n",
              "\n",
              "#sk-container-id-2 div.sk-label label {\n",
              "  font-family: monospace;\n",
              "  font-weight: bold;\n",
              "  display: inline-block;\n",
              "  line-height: 1.2em;\n",
              "}\n",
              "\n",
              "#sk-container-id-2 div.sk-label-container {\n",
              "  text-align: center;\n",
              "}\n",
              "\n",
              "/* Estimator-specific */\n",
              "#sk-container-id-2 div.sk-estimator {\n",
              "  font-family: monospace;\n",
              "  border: 1px dotted var(--sklearn-color-border-box);\n",
              "  border-radius: 0.25em;\n",
              "  box-sizing: border-box;\n",
              "  margin-bottom: 0.5em;\n",
              "  /* unfitted */\n",
              "  background-color: var(--sklearn-color-unfitted-level-0);\n",
              "}\n",
              "\n",
              "#sk-container-id-2 div.sk-estimator.fitted {\n",
              "  /* fitted */\n",
              "  background-color: var(--sklearn-color-fitted-level-0);\n",
              "}\n",
              "\n",
              "/* on hover */\n",
              "#sk-container-id-2 div.sk-estimator:hover {\n",
              "  /* unfitted */\n",
              "  background-color: var(--sklearn-color-unfitted-level-2);\n",
              "}\n",
              "\n",
              "#sk-container-id-2 div.sk-estimator.fitted:hover {\n",
              "  /* fitted */\n",
              "  background-color: var(--sklearn-color-fitted-level-2);\n",
              "}\n",
              "\n",
              "/* Specification for estimator info (e.g. \"i\" and \"?\") */\n",
              "\n",
              "/* Common style for \"i\" and \"?\" */\n",
              "\n",
              ".sk-estimator-doc-link,\n",
              "a:link.sk-estimator-doc-link,\n",
              "a:visited.sk-estimator-doc-link {\n",
              "  float: right;\n",
              "  font-size: smaller;\n",
              "  line-height: 1em;\n",
              "  font-family: monospace;\n",
              "  background-color: var(--sklearn-color-background);\n",
              "  border-radius: 1em;\n",
              "  height: 1em;\n",
              "  width: 1em;\n",
              "  text-decoration: none !important;\n",
              "  margin-left: 0.5em;\n",
              "  text-align: center;\n",
              "  /* unfitted */\n",
              "  border: var(--sklearn-color-unfitted-level-1) 1pt solid;\n",
              "  color: var(--sklearn-color-unfitted-level-1);\n",
              "}\n",
              "\n",
              ".sk-estimator-doc-link.fitted,\n",
              "a:link.sk-estimator-doc-link.fitted,\n",
              "a:visited.sk-estimator-doc-link.fitted {\n",
              "  /* fitted */\n",
              "  border: var(--sklearn-color-fitted-level-1) 1pt solid;\n",
              "  color: var(--sklearn-color-fitted-level-1);\n",
              "}\n",
              "\n",
              "/* On hover */\n",
              "div.sk-estimator:hover .sk-estimator-doc-link:hover,\n",
              ".sk-estimator-doc-link:hover,\n",
              "div.sk-label-container:hover .sk-estimator-doc-link:hover,\n",
              ".sk-estimator-doc-link:hover {\n",
              "  /* unfitted */\n",
              "  background-color: var(--sklearn-color-unfitted-level-3);\n",
              "  color: var(--sklearn-color-background);\n",
              "  text-decoration: none;\n",
              "}\n",
              "\n",
              "div.sk-estimator.fitted:hover .sk-estimator-doc-link.fitted:hover,\n",
              ".sk-estimator-doc-link.fitted:hover,\n",
              "div.sk-label-container:hover .sk-estimator-doc-link.fitted:hover,\n",
              ".sk-estimator-doc-link.fitted:hover {\n",
              "  /* fitted */\n",
              "  background-color: var(--sklearn-color-fitted-level-3);\n",
              "  color: var(--sklearn-color-background);\n",
              "  text-decoration: none;\n",
              "}\n",
              "\n",
              "/* Span, style for the box shown on hovering the info icon */\n",
              ".sk-estimator-doc-link span {\n",
              "  display: none;\n",
              "  z-index: 9999;\n",
              "  position: relative;\n",
              "  font-weight: normal;\n",
              "  right: .2ex;\n",
              "  padding: .5ex;\n",
              "  margin: .5ex;\n",
              "  width: min-content;\n",
              "  min-width: 20ex;\n",
              "  max-width: 50ex;\n",
              "  color: var(--sklearn-color-text);\n",
              "  box-shadow: 2pt 2pt 4pt #999;\n",
              "  /* unfitted */\n",
              "  background: var(--sklearn-color-unfitted-level-0);\n",
              "  border: .5pt solid var(--sklearn-color-unfitted-level-3);\n",
              "}\n",
              "\n",
              ".sk-estimator-doc-link.fitted span {\n",
              "  /* fitted */\n",
              "  background: var(--sklearn-color-fitted-level-0);\n",
              "  border: var(--sklearn-color-fitted-level-3);\n",
              "}\n",
              "\n",
              ".sk-estimator-doc-link:hover span {\n",
              "  display: block;\n",
              "}\n",
              "\n",
              "/* \"?\"-specific style due to the `<a>` HTML tag */\n",
              "\n",
              "#sk-container-id-2 a.estimator_doc_link {\n",
              "  float: right;\n",
              "  font-size: 1rem;\n",
              "  line-height: 1em;\n",
              "  font-family: monospace;\n",
              "  background-color: var(--sklearn-color-background);\n",
              "  border-radius: 1rem;\n",
              "  height: 1rem;\n",
              "  width: 1rem;\n",
              "  text-decoration: none;\n",
              "  /* unfitted */\n",
              "  color: var(--sklearn-color-unfitted-level-1);\n",
              "  border: var(--sklearn-color-unfitted-level-1) 1pt solid;\n",
              "}\n",
              "\n",
              "#sk-container-id-2 a.estimator_doc_link.fitted {\n",
              "  /* fitted */\n",
              "  border: var(--sklearn-color-fitted-level-1) 1pt solid;\n",
              "  color: var(--sklearn-color-fitted-level-1);\n",
              "}\n",
              "\n",
              "/* On hover */\n",
              "#sk-container-id-2 a.estimator_doc_link:hover {\n",
              "  /* unfitted */\n",
              "  background-color: var(--sklearn-color-unfitted-level-3);\n",
              "  color: var(--sklearn-color-background);\n",
              "  text-decoration: none;\n",
              "}\n",
              "\n",
              "#sk-container-id-2 a.estimator_doc_link.fitted:hover {\n",
              "  /* fitted */\n",
              "  background-color: var(--sklearn-color-fitted-level-3);\n",
              "}\n",
              "</style><div id=\"sk-container-id-2\" class=\"sk-top-container\"><div class=\"sk-text-repr-fallback\"><pre>LogisticRegression()</pre><b>In a Jupyter environment, please rerun this cell to show the HTML representation or trust the notebook. <br />On GitHub, the HTML representation is unable to render, please try loading this page with nbviewer.org.</b></div><div class=\"sk-container\" hidden><div class=\"sk-item\"><div class=\"sk-estimator fitted sk-toggleable\"><input class=\"sk-toggleable__control sk-hidden--visually\" id=\"sk-estimator-id-2\" type=\"checkbox\" checked><label for=\"sk-estimator-id-2\" class=\"sk-toggleable__label fitted sk-toggleable__label-arrow\"><div><div>LogisticRegression</div></div><div><a class=\"sk-estimator-doc-link fitted\" rel=\"noreferrer\" target=\"_blank\" href=\"https://scikit-learn.org/1.6/modules/generated/sklearn.linear_model.LogisticRegression.html\">?<span>Documentation for LogisticRegression</span></a><span class=\"sk-estimator-doc-link fitted\">i<span>Fitted</span></span></div></label><div class=\"sk-toggleable__content fitted\"><pre>LogisticRegression()</pre></div> </div></div></div></div>"
            ]
          },
          "metadata": {},
          "execution_count": 39
        }
      ]
    },
    {
      "cell_type": "code",
      "source": [
        "#training Data Accuracy\n",
        "X_train_prediction = model.predict(X_train)\n",
        "training_data_accuracy = accuracy_score(X_train_prediction,Y_train)\n",
        "print(\"Training Data Accuracy: \",training_data_accuracy)"
      ],
      "metadata": {
        "colab": {
          "base_uri": "https://localhost:8080/"
        },
        "id": "US_M7-O5IWDS",
        "outputId": "e431d24a-0f0b-4226-cf9e-43d2cff8907f"
      },
      "execution_count": 40,
      "outputs": [
        {
          "output_type": "stream",
          "name": "stdout",
          "text": [
            "Training Data Accuracy:  0.9118070554355652\n"
          ]
        }
      ]
    },
    {
      "cell_type": "code",
      "source": [
        "#test Data Accuracy\n",
        "X_test_prediction = model.predict(X_test)\n",
        "test_data_accuracy = accuracy_score(X_test_prediction,Y_test)\n",
        "print(\"Test Data Accuracy: \",test_data_accuracy)"
      ],
      "metadata": {
        "colab": {
          "base_uri": "https://localhost:8080/"
        },
        "id": "UK0I9ivhIekq",
        "outputId": "2aaec55d-a182-4c84-ae47-3e5fa2178ea1"
      },
      "execution_count": 41,
      "outputs": [
        {
          "output_type": "stream",
          "name": "stdout",
          "text": [
            "Test Data Accuracy:  0.8345323741007195\n"
          ]
        }
      ]
    },
    {
      "cell_type": "markdown",
      "source": [
        "build predictive model"
      ],
      "metadata": {
        "id": "pEMoFpqlI6JD"
      }
    },
    {
      "cell_type": "code",
      "source": [
        "n=10\n",
        "input_data = X_test[n]\n",
        "\n",
        "prediction = model.predict(input_data)\n",
        "print(prediction)\n",
        "\n",
        "if (prediction[0]=='REAL'):\n",
        "  print('The news is Real')\n",
        "else:\n",
        "  print('The news is Fake')"
      ],
      "metadata": {
        "colab": {
          "base_uri": "https://localhost:8080/"
        },
        "id": "9lOMNXgSIrMz",
        "outputId": "e4f07cde-000b-4868-8e84-cd53c2becf2e"
      },
      "execution_count": 51,
      "outputs": [
        {
          "output_type": "stream",
          "name": "stdout",
          "text": [
            "['FAKE']\n",
            "The news is Fake\n"
          ]
        }
      ]
    },
    {
      "cell_type": "code",
      "source": [
        "print(Y_test.reset_index(drop=True)[n])"
      ],
      "metadata": {
        "colab": {
          "base_uri": "https://localhost:8080/"
        },
        "id": "hFnv8ybgJFk6",
        "outputId": "253e81bd-0c76-41a9-c7db-9a06ffe83fd1"
      },
      "execution_count": 52,
      "outputs": [
        {
          "output_type": "stream",
          "name": "stdout",
          "text": [
            "FAKE\n"
          ]
        }
      ]
    }
  ]
}